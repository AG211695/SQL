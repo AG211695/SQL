{
 "cells": [
  {
   "cell_type": "markdown",
   "id": "0ae4ff9e-6cb8-4baa-9f42-e9e88ee58437",
   "metadata": {},
   "source": [
    "This file contains a collection of solved SQL problems from Dataford, covering a range of topics from basic to advanced concepts. It's designed to enhance your understanding of SQL's powerful capabilities through practical, real-world examples."
   ]
  },
  {
   "cell_type": "code",
   "execution_count": null,
   "id": "36df3abc-6147-42bd-af8c-963b8a44f609",
   "metadata": {},
   "outputs": [],
   "source": [
    "#SAME BIRTH MONTH\n",
    "#Determine the count of employees within each department sharing the same birth month. The output should include the department, birth month, and the number of employees from that department who were born in that month.\n",
    "SELECT DISTINCT\n",
    "profession AS department,\n",
    "birth_month,\n",
    "COUNT(*) OVER (PARTITION BY profession, birth_month)\n",
    "FROM employee_list\n",
    "ORDER BY birth_month"
   ]
  },
  {
   "cell_type": "code",
   "execution_count": null,
   "id": "88d6e9a6-fff8-4556-9705-4bb8b97604d3",
   "metadata": {},
   "outputs": [],
   "source": [
    "#HIGHEST AND LOWEST SALARIES\n",
    "#You're tasked with finding employees with the highest and lowest salaries. Your output should feature the employee's ID, salary, and department.\n",
    "#Additionally, include a column named 'salary_type' categorizing the results as either 'Highest Salary' or 'Lowest Salary' based on their respective salary rankings.\n",
    "WITH CTE AS(\n",
    "SELECT worker_id, salary, department,\n",
    "RANK() OVER (PARTITION BY department, salary ORDER BY salary DESC) AS RankHighest,\n",
    "RANK() OVER (PARTITION BY department, salary ORDER BY salary ASC) AS RankLowest\n",
    "FROM worker\n",
    ")\n",
    "SELECT worker_id, salary, department,\n",
    "CASE\n",
    "WHEN RankHighest = 1 THEN 'Highest Salary'\n",
    "WHEN RankLowest = 1 THEN 'Lowest Salary'\n",
    "END AS salary_type\n",
    "FROM CTE\n",
    "WHERE RankHighest = 1 OR RankLowest = 1;"
   ]
  },
  {
   "cell_type": "code",
   "execution_count": null,
   "id": "20aa04c9-3de9-4f3e-a849-4bbf5fc9ee09",
   "metadata": {},
   "outputs": [],
   "source": [
    "#REVENUE ANALYSIS\n",
    "#Identify companies whose revenue consistently increases every year without any dips. This means that if a company's revenue increases for several consecutive years but then experiences a dip in revenue, that company should not be included in the output.\n",
    "WITH RevenueComparisons AS (\n",
    "    SELECT\n",
    "        company,\n",
    "        year,\n",
    "        revenue,\n",
    "        LEAD(revenue) OVER (PARTITION BY company ORDER BY year) AS next_year_revenue\n",
    "    FROM\n",
    "        company_revenue\n",
    ")\n",
    "\n",
    "SELECT \n",
    "    DISTINCT company\n",
    "FROM \n",
    "    RevenueComparisons\n",
    "WHERE \n",
    "    revenue < next_year_revenue OR next_year_revenue IS NULL\n",
    "GROUP BY \n",
    "    company\n",
    "HAVING \n",
    "    COUNT(next_year_revenue) = COUNT(revenue);"
   ]
  },
  {
   "cell_type": "code",
   "execution_count": null,
   "id": "356790a7-bfbe-47b9-a66f-9b178a6f1fcc",
   "metadata": {},
   "outputs": [],
   "source": [
    "#USER ACTIVITY DURATION\n",
    "#Your goal is to calculate the total active hours for each user. You should use the start and end times of user sessions, defined by the session state: '1' for session start and '0' for session end.\n",
    "WITH SessionPairs AS (\n",
    "    SELECT\n",
    "        customer_id,\n",
    "        state,\n",
    "        timestamp,\n",
    "        LEAD(timestamp) OVER (PARTITION BY customer_id ORDER BY timestamp) AS end_time\n",
    "    FROM\n",
    "        user_sessions\n",
    "    WHERE\n",
    "        state = 1\n",
    ")\n",
    "\n",
    "SELECT\n",
    "    customer_id,\n",
    "    SUM(EXTRACT(EPOCH FROM (end_time - timestamp)) / 3600.0) AS total_active_hours -- Convert seconds to hours\n",
    "FROM\n",
    "    SessionPairs\n",
    "WHERE\n",
    "    end_time IS NOT NULL\n",
    "GROUP BY\n",
    "    customer_id;"
   ]
  },
  {
   "cell_type": "code",
   "execution_count": null,
   "id": "174c1430-f491-450c-8c76-da33f10e37ba",
   "metadata": {},
   "outputs": [],
   "source": [
    "#ROLLING AVERAGE TWEETS\n",
    "#Write a query to calculate the 3-day rolling average of tweets for each user in the tweets table, and output the user ID, tweet date, and rolling averages rounded to 2 decimal places.\n",
    "SELECT \n",
    "user_id, \n",
    "tweet_date,\n",
    "ROUND(AVG(CAST(tweet_count) OVER (PARTITION BY user_id ORDER BY tweet_date\n",
    "ROWS BETWEEN 2 PRECEDING AND CURRENT ROW)),2) AS rolling_avg\n",
    "FROM tweets\n",
    "ORDER BY user_id, tweet_date;"
   ]
  },
  {
   "cell_type": "code",
   "execution_count": null,
   "id": "4bb3f9eb-74d3-446a-92a5-6b521d81a0bb",
   "metadata": {},
   "outputs": [],
   "source": [
    "#MoM REVENUE CHANGE\n",
    "#Write a SQL query to calculate the month-over-month percentage change in revenue.The output should include the year-month date (in YYYY-MM format) and percentage change, rounded to 2 decimal points.\n",
    "SELECT\n",
    "  TO_CHAR(purchase_date, 'YYYY-MM') AS year_month,\n",
    "  ROUND(\n",
    "    (SUM(revenue) - LAG(SUM(revenue), 1, 0) OVER (ORDER BY TO_CHAR(purchase_date, 'YYYY-MM'))) / \n",
    "    LAG(SUM(revenue), 1, NULL) OVER (ORDER BY TO_CHAR(purchase_date, 'YYYY-MM')) * 100,\n",
    "    2\n",
    "  ) AS percentage_change\n",
    "FROM\n",
    "  purchases\n",
    "GROUP BY\n",
    "  TO_CHAR(purchase_date, 'YYYY-MM')\n",
    "ORDER BY\n",
    "  year_month;"
   ]
  },
  {
   "cell_type": "code",
   "execution_count": null,
   "id": "2ebf5c65-1a5f-4ff0-a04a-37016f30a5f7",
   "metadata": {},
   "outputs": [],
   "source": [
    "#TRANSACTION RUNNING TOTAL\n",
    "#Given a table of transactions with transaction dates and amounts, write a SQL query to calculate the running total for each day.For instance, if transactions on the first day total $20 and on the second day total $30, the output for the first day should be $20 and for the second day $50 (which is $20 from the first day plus $30 from the second).\n",
    "SELECT transaction_date,\n",
    "SUM(amount) OVER (ORDER BY transaction_date) AS running_total\n",
    "FROM transactions\n",
    "ORDER BY transaction_date;"
   ]
  },
  {
   "cell_type": "code",
   "execution_count": null,
   "id": "e476e332-f25a-4115-8cc8-c439b88be353",
   "metadata": {},
   "outputs": [],
   "source": []
  }
 ],
 "metadata": {
  "kernelspec": {
   "display_name": "Python 3 (ipykernel)",
   "language": "python",
   "name": "python3"
  },
  "language_info": {
   "codemirror_mode": {
    "name": "ipython",
    "version": 3
   },
   "file_extension": ".py",
   "mimetype": "text/x-python",
   "name": "python",
   "nbconvert_exporter": "python",
   "pygments_lexer": "ipython3",
   "version": "3.11.7"
  }
 },
 "nbformat": 4,
 "nbformat_minor": 5
}
